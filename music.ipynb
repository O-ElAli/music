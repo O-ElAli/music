{
 "cells": [
  {
   "cell_type": "markdown",
   "id": "28e88550",
   "metadata": {},
   "source": [
    "**Introduction**\n",
    "\n",
    "In this assignment, you will implement a Recurrent Neural Network (RNN) for music generation.  \n",
    "\n",
    "For this, you will use the Irish Massive ABC Notation (IrishMAN) dataset, which contains a collection of Irish folk tunes in ABC notation.  \n",
    "\n",
    "The goal is to train an RNN to generate new tunes based on the patterns learned from the dataset.\n",
    "\n",
    "**Dataset:**  \n",
    "IrishMAN Dataset can be found at [https://huggingface.co/datasets/sander-wood/irishman](https://huggingface.co/datasets/sander-wood/irishman).\n"
   ]
  },
  {
   "cell_type": "markdown",
   "id": "56028bee",
   "metadata": {},
   "source": [
    "**Tasks**"
   ]
  },
  {
   "cell_type": "markdown",
   "id": "35a362fe",
   "metadata": {},
   "source": [
    "a) Data Preparation: Download the IrishMAN dataset and preprocess the ABC notation files to create a suitable input format for the RNN.  \n",
    "\n",
    "This includes tokenizing the ABC notation and creating sequences of tokens."
   ]
  },
  {
   "cell_type": "code",
   "execution_count": 8,
   "id": "4cae3a73",
   "metadata": {},
   "outputs": [
    {
     "name": "stdout",
     "output_type": "stream",
     "text": [
      "{'abc notation': ['X:1\\nL:1/8\\nM:4/4\\nK:Emin\\n|: E2 EF E2 EF | DEFG AFDF | E2 EF E2 B2 |1 efe^d e2 e2 :|2 efe^d e3 B |: e2 ef g2 fe | \\n defg afdf |1 e2 ef g2 fe | efe^d e3 B :|2 g2 bg f2 af | efe^d e2 e2 ||'], 'control code': ['S:2\\nB:5\\nE:5\\nB:6\\n']}\n"
     ]
    }
   ],
   "source": [
    "from datasets import load_dataset\n",
    "\n",
    "import torch\n",
    "import numpy as np\n",
    "\n",
    "\n",
    "dataset = load_dataset(\"sander-wood/irishman\")\n",
    "\n",
    "print(dataset['train'][:1])\n"
   ]
  },
  {
   "cell_type": "code",
   "execution_count": null,
   "id": "3825dc6e",
   "metadata": {},
   "outputs": [],
   "source": []
  },
  {
   "cell_type": "markdown",
   "id": "8c7da8ac",
   "metadata": {},
   "source": [
    "b) Model Implementation: Implement an RNN model (RNN Layer, LSTM Layer)using a deep learning framework of your choice (e.g. PyTorch).  \n",
    "\n",
    "The model should be able to take sequences of tokens as input and predict the next token in the sequence.  "
   ]
  },
  {
   "cell_type": "code",
   "execution_count": null,
   "id": "5f9c7f9e",
   "metadata": {},
   "outputs": [],
   "source": []
  },
  {
   "cell_type": "markdown",
   "id": "1abb0290",
   "metadata": {},
   "source": [
    "c) Training: Train your RNN model on the preprocessed dataset.  \n",
    "\n",
    "Experiment with different hyperparameters such as learning rate, batch size, and number of epochs to achieve the best performance."
   ]
  },
  {
   "cell_type": "code",
   "execution_count": null,
   "id": "0fb71ea9",
   "metadata": {},
   "outputs": [],
   "source": []
  },
  {
   "cell_type": "markdown",
   "id": "ad1833de",
   "metadata": {},
   "source": [
    "d) Music Generation: After training, use your RNN model to generate new music sequences.  \n",
    "\n",
    "You can start with a seed sequence and let the model predict subsequent tokens to create a complete tune."
   ]
  },
  {
   "cell_type": "code",
   "execution_count": null,
   "id": "bb2cfec6",
   "metadata": {},
   "outputs": [],
   "source": []
  },
  {
   "cell_type": "markdown",
   "id": "5fcf7b7a",
   "metadata": {},
   "source": [
    "e) Evaluation: Evaluate the quality of the generated music. You can do this by listening to the tunes or by using metrics such as top-1 or top-5 accuracy.  \n",
    "\n",
    "You can also look for other metrics like BLEU score or perplexity.  \n",
    "\n",
    "Please use TensorBoard to visualize the training process and the generated music.  \n",
    "\n",
    "Here is a tutorial on how to use TensorBoard with PyTorch: https://colab.research.google.com/github/pytorch/tutorials/blob/gh-pages/_downloads/tensorboard_with_pytorch.ipynb."
   ]
  },
  {
   "cell_type": "code",
   "execution_count": null,
   "id": "d4061ba1",
   "metadata": {},
   "outputs": [],
   "source": []
  }
 ],
 "metadata": {
  "kernelspec": {
   "display_name": "Python 3",
   "language": "python",
   "name": "python3"
  },
  "language_info": {
   "codemirror_mode": {
    "name": "ipython",
    "version": 3
   },
   "file_extension": ".py",
   "mimetype": "text/x-python",
   "name": "python",
   "nbconvert_exporter": "python",
   "pygments_lexer": "ipython3",
   "version": "3.11.0"
  }
 },
 "nbformat": 4,
 "nbformat_minor": 5
}
