{
 "cells": [
  {
   "cell_type": "code",
   "execution_count": 8,
   "id": "97a6e5ab",
   "metadata": {},
   "outputs": [
    {
     "name": "stdout",
     "output_type": "stream",
     "text": [
      "Loading dataset and vocab...\n"
     ]
    },
    {
     "name": "stderr",
     "output_type": "stream",
     "text": [
      "C:\\Users\\geome\\AppData\\Local\\Temp\\ipykernel_1204\\4220505250.py:39: FutureWarning: You are using `torch.load` with `weights_only=False` (the current default value), which uses the default pickle module implicitly. It is possible to construct malicious pickle data which will execute arbitrary code during unpickling (See https://github.com/pytorch/pytorch/blob/main/SECURITY.md#untrusted-models for more details). In a future release, the default value for `weights_only` will be flipped to `True`. This limits the functions that could be executed during unpickling. Arbitrary objects will no longer be allowed to be loaded via this mode unless they are explicitly allowlisted by the user via `torch.serialization.add_safe_globals`. We recommend you start setting `weights_only=True` for any use case where you don't have full control of the loaded file. Please open an issue on GitHub for any issues related to this experimental feature.\n",
      "  model.load_state_dict(torch.load(\"best_model.pth\", map_location=DEVICE))\n"
     ]
    },
    {
     "name": "stdout",
     "output_type": "stream",
     "text": [
      "Model loaded successfully!\n",
      "\n",
      "=== Generated ABC Notation ===\n",
      "\n",
      "X:1\n",
      "T:Generated Tune\n",
      "M:6/8\n",
      "L:1/16\n",
      "K:G\n",
      "\"G\" BcB GBd |\"C\" c2 c cde |\"G\" d3 z f2 |\"F\" g2 f fed |\"C\" c2 G e2 e | efg e3 |\"G#7\"\"^4\" GGG\"Gm\" d2 B |\"D7\" dcA A3 :: \n",
      "[K:C]\"Em\" B>BB\"E\" AG=F |\"Ab7\" BA2 c2B2 |\"^A,7\" e2 z2\"^(E)\" B4 |]\"Cm\" [ec]2 z2 z a2 | \n",
      "\"Bbm\" b3- ab!b4 b2 a2 |\"C7\" g3 b !>!g3 f _b2 |\"F\" c'a ^ga b2 a2 a2 | c'f ad' f3 a ^ge | \n",
      "\"Fm\" fc af ad' ag a2 | A^c ad' ba\"Eb\" g(3b/g/a/b ::\"Bb\" b>b a/=g/b/f/ g/f/g/e/ f2 Bd | \n",
      "\"F7\" cf Aa cA cF Fc/C/ | cc cf c2 fc c/f/f/a/ | [a,A]2 | z a f>f ff Ac | fa fa b2 bg | af cf fF Ac/f/ | bg/f/ c'>a c'd' gc' | \n",
      " gd'bg egce | gdad fgab | gb/a/ fafd2 || |] D2 |: G4 A3d/d | c2c2d2BG | A2>A2 F2A2 | f2 F2fff2 | \n",
      " FGAB cedc | B2G2B2 :: d2 | g2gab2c'2 | b2a2a2 b2 | c'gbg f2b2 | agab f2a2 | \n",
      " g2g2b2gb | aaa2a2ag | a2f2a2gf | efge d2B2 | cdc2 efg2 | f2f2 a4 | agfe d2c2 | C2c2 c2c2 | \n",
      " gfef fede | c2c2c2d2 |\n"
     ]
    }
   ],
   "source": [
    "import torch\n",
    "import torch.nn as nn\n",
    "import random\n",
    "from datasets import load_dataset\n",
    "\n",
    "# === Parameters ===\n",
    "SEQ_LENGTH = 75\n",
    "EMBED_DIM = 64\n",
    "HIDDEN_DIM = 128\n",
    "NUM_LAYERS = 1\n",
    "DEVICE = torch.device('cuda' if torch.cuda.is_available() else 'cpu')\n",
    "\n",
    "# === Load data to get vocabulary ===\n",
    "print(\"Loading dataset and vocab...\")\n",
    "dataset = load_dataset('sander-wood/irishman', split='train')\n",
    "texts = dataset['abc notation']\n",
    "vocab = sorted(set(''.join(texts)))\n",
    "char2idx = {ch: i for i, ch in enumerate(vocab)}\n",
    "idx2char = {i: ch for ch, i in char2idx.items()}\n",
    "VocabSize = len(vocab)\n",
    "\n",
    "# === Define model ===\n",
    "class SimpleRNN(nn.Module):\n",
    "    def __init__(self):\n",
    "        super().__init__()\n",
    "        self.embed = nn.Embedding(VocabSize, EMBED_DIM)\n",
    "        self.lstm = nn.LSTM(EMBED_DIM, HIDDEN_DIM, NUM_LAYERS, batch_first=True)\n",
    "        self.fc = nn.Linear(HIDDEN_DIM, VocabSize)\n",
    "\n",
    "    def forward(self, x, hidden=None):\n",
    "        x = self.embed(x)\n",
    "        out, hidden = self.lstm(x, hidden)\n",
    "        out = out.reshape(-1, HIDDEN_DIM)\n",
    "        logits = self.fc(out)\n",
    "        return logits, hidden\n",
    "\n",
    "# === Load model ===\n",
    "model = SimpleRNN().to(DEVICE)\n",
    "model.load_state_dict(torch.load(\"best_model.pth\", map_location=DEVICE))\n",
    "model.eval()\n",
    "print(\"Model loaded successfully!\")\n",
    "\n",
    "# === Generate ABC tune ===\n",
    "M_options = [\"M:6/8\", \"M:4/4\", \"M:3/4\"]\n",
    "L_options = [\"L:1/8\", \"L:1/16\", \"L:1/4\"]\n",
    "K_options = [\"K:D\", \"K:G\", \"K:C\"]\n",
    "\n",
    "start = f\"\"\"X:1\n",
    "T:Generated Tune\n",
    "{random.choice(M_options)}\n",
    "{random.choice(L_options)}\n",
    "{random.choice(K_options)}\n",
    "\"\"\"\n",
    "\n",
    "seq = [char2idx.get(c, 0) for c in start]\n",
    "hidden = None\n",
    "\n",
    "for _ in range(800):  # generate 800 characters\n",
    "    inp_seq = seq[-SEQ_LENGTH:]\n",
    "    inp = torch.tensor(inp_seq).unsqueeze(0).to(DEVICE)\n",
    "    logits, hidden = model(inp, hidden)\n",
    "    probs = torch.softmax(logits[-1], dim=0)\n",
    "    idx = torch.multinomial(probs, 1).item()\n",
    "    seq.append(idx)\n",
    "\n",
    "# === Decode and print ===\n",
    "generated = ''.join(idx2char[i] for i in seq)\n",
    "print(\"\\n=== Generated ABC Notation ===\\n\")\n",
    "print(generated)\n"
   ]
  },
  {
   "cell_type": "code",
   "execution_count": null,
   "id": "b0115974",
   "metadata": {},
   "outputs": [],
   "source": []
  },
  {
   "cell_type": "code",
   "execution_count": null,
   "id": "10851e53",
   "metadata": {},
   "outputs": [],
   "source": []
  }
 ],
 "metadata": {
  "kernelspec": {
   "display_name": "Python 3",
   "language": "python",
   "name": "python3"
  },
  "language_info": {
   "codemirror_mode": {
    "name": "ipython",
    "version": 3
   },
   "file_extension": ".py",
   "mimetype": "text/x-python",
   "name": "python",
   "nbconvert_exporter": "python",
   "pygments_lexer": "ipython3",
   "version": "3.11.0"
  }
 },
 "nbformat": 4,
 "nbformat_minor": 5
}
