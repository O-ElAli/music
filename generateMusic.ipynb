{
 "cells": [
  {
   "cell_type": "code",
   "execution_count": 9,
   "id": "97a6e5ab",
   "metadata": {},
   "outputs": [
    {
     "name": "stdout",
     "output_type": "stream",
     "text": [
      "Loading dataset and vocab...\n"
     ]
    },
    {
     "name": "stderr",
     "output_type": "stream",
     "text": [
      "C:\\Users\\geome\\AppData\\Local\\Temp\\ipykernel_1204\\4220505250.py:39: FutureWarning: You are using `torch.load` with `weights_only=False` (the current default value), which uses the default pickle module implicitly. It is possible to construct malicious pickle data which will execute arbitrary code during unpickling (See https://github.com/pytorch/pytorch/blob/main/SECURITY.md#untrusted-models for more details). In a future release, the default value for `weights_only` will be flipped to `True`. This limits the functions that could be executed during unpickling. Arbitrary objects will no longer be allowed to be loaded via this mode unless they are explicitly allowlisted by the user via `torch.serialization.add_safe_globals`. We recommend you start setting `weights_only=True` for any use case where you don't have full control of the loaded file. Please open an issue on GitHub for any issues related to this experimental feature.\n",
      "  model.load_state_dict(torch.load(\"best_model.pth\", map_location=DEVICE))\n"
     ]
    },
    {
     "name": "stdout",
     "output_type": "stream",
     "text": [
      "Model loaded successfully!\n",
      "\n",
      "=== Generated ABC Notation ===\n",
      "\n",
      "X:1\n",
      "T:Generated Tune\n",
      "M:4/4\n",
      "L:1/4\n",
      "K:C\n",
      " G2 Bc Bc | d2 d2 ag | g4 ce | g2 g2 ed | BG AF d2 | c3 A cd | e2 g2 f2 | e4 dc | \n",
      " cB cd ed | c4 EF | G2 AB cA | G6 |[M:3/4] C4 G4- | A4- A4- |[M:2/2]) (A2 c2 | c4) c2 | \n",
      " d4 (dc) | (G E) D4 | (C2 D4) E2 | f2 (e d) c2 | =B4S c2 (B A) | (B2 A2) (A B c2) | \n",
      " d4 f2 (3(f2 e2) a4 | (a g) f2 | (g a) (b2-\"^sos4itTtichal's4\" c'6 gf | e4 f2 (ge) f4 d2 | f2 d2 e2 d cB c2 d2 z2 C6 c6 | \n",
      " (ff)(fd) | (c2 B4 A2!p! AE) (E2 C6) E2 ||[M:2/4] G8 z2 |: C2E | A<c B<B,2 B,2 A,2 | C2C2 C2 A,>B, C>CA,C, C4 | a2>g2 a>ec>^f e2c>B | \n",
      " C<A,A,>A, E2<A2 =G>AB<d c2Bc d2>c2 c2fe | e8 d8\"_fina! efgeeee z4 (!p!!fedc=BAgfe2).d2c2c2 f6 A4 | \n",
      " (fg) (g4{a} g4) Tg6 e4 (fg) !fermata!G8 ::[M:3/8][K:C] [DG]bag e2g2 | d4 dcBc | ded g4 | \n",
      " GD[CB]7 | [GB]2[GB]2 c2e2 | eeef e2d2 | e2c2 A2GA | cde2- d4 | ge d2g ed[dg-] | [dg]2e2{f} g\n"
     ]
    }
   ],
   "source": [
    "import torch\n",
    "import torch.nn as nn\n",
    "import random\n",
    "from datasets import load_dataset\n",
    "\n",
    "# === Parameters ===\n",
    "SEQ_LENGTH = 75\n",
    "EMBED_DIM = 64\n",
    "HIDDEN_DIM = 128\n",
    "NUM_LAYERS = 1\n",
    "DEVICE = torch.device('cuda' if torch.cuda.is_available() else 'cpu')\n",
    "\n",
    "# === Load data to get vocabulary ===\n",
    "print(\"Loading dataset and vocab...\")\n",
    "dataset = load_dataset('sander-wood/irishman', split='train')\n",
    "texts = dataset['abc notation']\n",
    "vocab = sorted(set(''.join(texts)))\n",
    "char2idx = {ch: i for i, ch in enumerate(vocab)}\n",
    "idx2char = {i: ch for ch, i in char2idx.items()}\n",
    "VocabSize = len(vocab)\n",
    "\n",
    "# === Define model ===\n",
    "class SimpleRNN(nn.Module):\n",
    "    def __init__(self):\n",
    "        super().__init__()\n",
    "        self.embed = nn.Embedding(VocabSize, EMBED_DIM)\n",
    "        self.lstm = nn.LSTM(EMBED_DIM, HIDDEN_DIM, NUM_LAYERS, batch_first=True)\n",
    "        self.fc = nn.Linear(HIDDEN_DIM, VocabSize)\n",
    "\n",
    "    def forward(self, x, hidden=None):\n",
    "        x = self.embed(x)\n",
    "        out, hidden = self.lstm(x, hidden)\n",
    "        out = out.reshape(-1, HIDDEN_DIM)\n",
    "        logits = self.fc(out)\n",
    "        return logits, hidden\n",
    "\n",
    "# === Load model ===\n",
    "model = SimpleRNN().to(DEVICE)\n",
    "model.load_state_dict(torch.load(\"best_model.pth\", map_location=DEVICE))\n",
    "model.eval()\n",
    "print(\"Model loaded successfully!\")\n",
    "\n",
    "# === Generate ABC tune ===\n",
    "M_options = [\"M:6/8\", \"M:4/4\", \"M:3/4\"]\n",
    "L_options = [\"L:1/8\", \"L:1/16\", \"L:1/4\"]\n",
    "K_options = [\"K:D\", \"K:G\", \"K:C\"]\n",
    "\n",
    "start = f\"\"\"X:1\n",
    "T:Generated Tune\n",
    "{random.choice(M_options)}\n",
    "{random.choice(L_options)}\n",
    "{random.choice(K_options)}\n",
    "\"\"\"\n",
    "\n",
    "seq = [char2idx.get(c, 0) for c in start]\n",
    "hidden = None\n",
    "\n",
    "for _ in range(800):  # generate 800 characters\n",
    "    inp_seq = seq[-SEQ_LENGTH:]\n",
    "    inp = torch.tensor(inp_seq).unsqueeze(0).to(DEVICE)\n",
    "    logits, hidden = model(inp, hidden)\n",
    "    probs = torch.softmax(logits[-1], dim=0)\n",
    "    idx = torch.multinomial(probs, 1).item()\n",
    "    seq.append(idx)\n",
    "\n",
    "# === Decode and print ===\n",
    "generated = ''.join(idx2char[i] for i in seq)\n",
    "print(\"\\n=== Generated ABC Notation ===\\n\")\n",
    "print(generated)\n"
   ]
  },
  {
   "cell_type": "code",
   "execution_count": null,
   "id": "b0115974",
   "metadata": {},
   "outputs": [],
   "source": []
  },
  {
   "cell_type": "code",
   "execution_count": null,
   "id": "10851e53",
   "metadata": {},
   "outputs": [],
   "source": []
  }
 ],
 "metadata": {
  "kernelspec": {
   "display_name": "Python 3",
   "language": "python",
   "name": "python3"
  },
  "language_info": {
   "codemirror_mode": {
    "name": "ipython",
    "version": 3
   },
   "file_extension": ".py",
   "mimetype": "text/x-python",
   "name": "python",
   "nbconvert_exporter": "python",
   "pygments_lexer": "ipython3",
   "version": "3.11.0"
  }
 },
 "nbformat": 4,
 "nbformat_minor": 5
}
