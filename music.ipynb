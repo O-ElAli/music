{
 "cells": [
  {
   "cell_type": "markdown",
   "id": "28e88550",
   "metadata": {},
   "source": [
    "**Introduction**\n",
    "\n",
    "In this assignment, you will implement a Recurrent Neural Network (RNN) for music generation.  \n",
    "\n",
    "For this, you will use the Irish Massive ABC Notation (IrishMAN) dataset, which contains a collection of Irish folk tunes in ABC notation.  \n",
    "\n",
    "The goal is to train an RNN to generate new tunes based on the patterns learned from the dataset.\n",
    "\n",
    "**Dataset:**  \n",
    "IrishMAN Dataset can be found at [https://huggingface.co/datasets/sander-wood/irishman](https://huggingface.co/datasets/sander-wood/irishman).\n"
   ]
  },
  {
   "cell_type": "markdown",
   "id": "56028bee",
   "metadata": {},
   "source": [
    "**Tasks**"
   ]
  },
  {
   "cell_type": "markdown",
   "id": "35a362fe",
   "metadata": {},
   "source": [
    "a) Data Preparation: Download the IrishMAN dataset and preprocess the ABC notation files to create a suitable input format for the RNN.  \n",
    "\n",
    "This includes tokenizing the ABC notation and creating sequences of tokens."
   ]
  },
  {
   "cell_type": "code",
   "execution_count": 32,
   "id": "4cae3a73",
   "metadata": {},
   "outputs": [],
   "source": [
    "from datasets import load_dataset\n",
    "\n",
    "import torch\n",
    "import numpy as np\n",
    "\n",
    "\n",
    "dataset = load_dataset(\"sander-wood/irishman\")\n",
    "\n",
    "train_dataset = dataset[\"train\"]\n",
    "validation_dataset = dataset[\"validation\"]\n",
    "\n",
    "\n",
    "# print(\"Train dataset size:\", len(train_dataset))\n",
    "\n",
    "# print(\"Validation dataset size:\", len(validation_dataset))\n",
    "\n",
    "train_data = \"\\n\".join(i['abc notation'] for i in train_dataset)\n",
    "\n",
    "numberOfSequences = 10\n",
    "\n",
    "sequenceLength = 100\n",
    "# Create a list to hold the sequences\n",
    "\n",
    "\n",
    "# Initialize the sequence list with None\n",
    "\n",
    "\n",
    "sequence = [None] * numberOfSequences\n",
    "\n",
    "# In the loop below, you can extract sequences of length 100 from the concatenated train_data string:\n",
    "for i in range(numberOfSequences):\n",
    "    start_idx = i * sequenceLength\n",
    "    end_idx = start_idx + sequenceLength\n",
    "    sequence[i] = train_data[start_idx:end_idx]\n",
    "\n",
    "\n",
    "\n",
    "\n",
    "\n"
   ]
  },
  {
   "cell_type": "code",
   "execution_count": 33,
   "id": "3825dc6e",
   "metadata": {},
   "outputs": [],
   "source": [
    "\n",
    "# print(f\"Sequence 1:\\n{sequence[0]}\\n\")\n",
    "# print(f\"Length of sequence 1: {len(sequence[0])} characters\\n\")\n"
   ]
  },
  {
   "cell_type": "code",
   "execution_count": null,
   "id": "db8c9961",
   "metadata": {},
   "outputs": [
    {
     "name": "stdout",
     "output_type": "stream",
     "text": [
      "Number of unique tokens: 95\n",
      "Sample tokens from first tune: ['X', ':', '9', '2', '3', '\\n', 'L', ':', '1', '/', '4', '\\n', 'M', ':', '4', '/', '4', '\\n', 'K', ':', 'D', '\\n']\n"
     ]
    }
   ],
   "source": [
    "\n",
    "# Sort the dataset first\n",
    "sorted_train_dataset = sorted(train_dataset, key=lambda x: len(x['abc notation']))\n",
    "\n",
    "tokens = [list(tune['abc notation']) for tune in sorted_train_dataset]\n",
    "\n",
    "# Create a vocabulary of unique tokens\n",
    "all_tokens = set(token for tune in tokens for token in tune)\n",
    "\n",
    "# Create token-to-index and index-to-token mappings\n",
    "token2idx = {token: idx for idx, token in enumerate(sorted(all_tokens))}\n",
    "idx2token = {idx: token for token, idx in token2idx.items()}\n",
    "\n",
    "# Map each token in each tune to its corresponding integer\n",
    "token_indices = [[token2idx[token] for token in tune] for tune in tokens]\n",
    "\n",
    "print(f\"Number of unique tokens: {len(all_tokens)}\")\n",
    "\n",
    "\n",
    "print(\"Tokens:\", tokens)  # Print the last 10 tokens\n",
    "\n"
   ]
  },
  {
   "cell_type": "code",
   "execution_count": null,
   "id": "9eca4f18",
   "metadata": {},
   "outputs": [],
   "source": []
  },
  {
   "cell_type": "markdown",
   "id": "8c7da8ac",
   "metadata": {},
   "source": [
    "b) Model Implementation: Implement an RNN model (RNN Layer, LSTM Layer)using a deep learning framework of your choice (e.g. PyTorch).  \n",
    "\n",
    "The model should be able to take sequences of tokens as input and predict the next token in the sequence.  "
   ]
  },
  {
   "cell_type": "code",
   "execution_count": null,
   "id": "5f9c7f9e",
   "metadata": {},
   "outputs": [],
   "source": []
  },
  {
   "cell_type": "markdown",
   "id": "1abb0290",
   "metadata": {},
   "source": [
    "c) Training: Train your RNN model on the preprocessed dataset.  \n",
    "\n",
    "Experiment with different hyperparameters such as learning rate, batch size, and number of epochs to achieve the best performance."
   ]
  },
  {
   "cell_type": "code",
   "execution_count": null,
   "id": "0fb71ea9",
   "metadata": {},
   "outputs": [],
   "source": []
  },
  {
   "cell_type": "markdown",
   "id": "ad1833de",
   "metadata": {},
   "source": [
    "d) Music Generation: After training, use your RNN model to generate new music sequences.  \n",
    "\n",
    "You can start with a seed sequence and let the model predict subsequent tokens to create a complete tune."
   ]
  },
  {
   "cell_type": "code",
   "execution_count": null,
   "id": "bb2cfec6",
   "metadata": {},
   "outputs": [],
   "source": []
  },
  {
   "cell_type": "markdown",
   "id": "5fcf7b7a",
   "metadata": {},
   "source": [
    "e) Evaluation: Evaluate the quality of the generated music. You can do this by listening to the tunes or by using metrics such as top-1 or top-5 accuracy.  \n",
    "\n",
    "You can also look for other metrics like BLEU score or perplexity.  \n",
    "\n",
    "Please use TensorBoard to visualize the training process and the generated music.  \n",
    "\n",
    "Here is a tutorial on how to use TensorBoard with PyTorch: https://colab.research.google.com/github/pytorch/tutorials/blob/gh-pages/_downloads/tensorboard_with_pytorch.ipynb."
   ]
  },
  {
   "cell_type": "code",
   "execution_count": null,
   "id": "d4061ba1",
   "metadata": {},
   "outputs": [],
   "source": []
  }
 ],
 "metadata": {
  "kernelspec": {
   "display_name": "Python 3",
   "language": "python",
   "name": "python3"
  },
  "language_info": {
   "codemirror_mode": {
    "name": "ipython",
    "version": 3
   },
   "file_extension": ".py",
   "mimetype": "text/x-python",
   "name": "python",
   "nbconvert_exporter": "python",
   "pygments_lexer": "ipython3",
   "version": "3.11.0"
  }
 },
 "nbformat": 4,
 "nbformat_minor": 5
}
